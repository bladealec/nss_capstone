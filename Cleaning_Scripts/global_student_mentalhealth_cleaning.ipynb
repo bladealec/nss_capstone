{
 "cells": [
  {
   "cell_type": "code",
   "execution_count": null,
   "id": "ed002b16",
   "metadata": {},
   "outputs": [],
   "source": [
    "import pandas as pd"
   ]
  },
  {
   "cell_type": "code",
   "execution_count": null,
   "id": "ad36a171",
   "metadata": {
    "scrolled": true
   },
   "outputs": [],
   "source": [
    "mentalhealth_survey = pd.read_csv('../data/Child Mentality/global_student_mentalhealth_2003_2015.csv')\n",
    "mentalhealth_survey"
   ]
  },
  {
   "cell_type": "code",
   "execution_count": null,
   "id": "684b821f",
   "metadata": {},
   "outputs": [],
   "source": [
    "print(mentalhealth_survey.Year.min())\n",
    "print(mentalhealth_survey.Year.max())"
   ]
  },
  {
   "cell_type": "code",
   "execution_count": null,
   "id": "e4d3ec11",
   "metadata": {},
   "outputs": [],
   "source": [
    "mentalhealth = mentalhealth_survey[['Year', 'LocationAbbr', 'LocationDesc', 'Topic', 'Subtopic', 'ShortQuestionText',\n",
    "                                    'Greater_Risk_Question', 'Description', 'Age', 'Sex', 'Data_Value_Symbol', 'Data_Value_Type',\n",
    "                                    'Greater_Risk_Data_Value']]\n",
    "mentalhealth"
   ]
  },
  {
   "cell_type": "code",
   "execution_count": null,
   "id": "7e4b219c",
   "metadata": {},
   "outputs": [],
   "source": [
    "mentalhealth['Subtopic'].unique()"
   ]
  },
  {
   "cell_type": "code",
   "execution_count": null,
   "id": "c3d06124",
   "metadata": {},
   "outputs": [],
   "source": [
    "mentalhealth[mentalhealth['Subtopic'] == 'Behaviors that Contribute to Violence']['ShortQuestionText'].unique()"
   ]
  },
  {
   "cell_type": "code",
   "execution_count": null,
   "id": "60256e64",
   "metadata": {},
   "outputs": [],
   "source": [
    "bullied_children = mentalhealth[(mentalhealth['ShortQuestionText'] == 'Bullied') |\n",
    "                                (mentalhealth['ShortQuestionText'] == 'Bullied by hitting') |\n",
    "                                (mentalhealth['ShortQuestionText'] == 'Physically attacked') |\n",
    "                                (mentalhealth['ShortQuestionText'] == 'Physical fight')]\n",
    "bullied_children.sort_values(by=['Year', 'LocationAbbr']).head(5)"
   ]
  },
  {
   "cell_type": "markdown",
   "id": "4e1b17eb",
   "metadata": {},
   "source": [
    "### bullied_children df contains information on individual ages and sex. It also includes entries for combined ages and sex. I'd like to narrow it down to just the combined total for each country, but I need to make sure I'm not losing any countries by doing so."
   ]
  },
  {
   "cell_type": "code",
   "execution_count": null,
   "id": "d42acfdd",
   "metadata": {},
   "outputs": [],
   "source": [
    "len(bullied_children['LocationAbbr'].unique())\n",
    "#len = 219"
   ]
  },
  {
   "cell_type": "code",
   "execution_count": null,
   "id": "196cdce6",
   "metadata": {},
   "outputs": [],
   "source": [
    "len(bullied_children[(bullied_children['Age'] == 'Total') &\n",
    "                 ((bullied_children['Sex'] == 'Total'))]['LocationAbbr'].unique())\n",
    "#len = 219\n",
    "#no country will be lost"
   ]
  },
  {
   "cell_type": "code",
   "execution_count": null,
   "id": "b2ebbcd1",
   "metadata": {},
   "outputs": [],
   "source": [
    "bullied_children = bullied_children[(bullied_children['Age'] == 'Total') &\n",
    "                 ((bullied_children['Sex'] == 'Total'))]\n",
    "\n",
    "bullied_children = bullied_children.sort_values(by=['Year', 'LocationAbbr'])\n",
    "\n",
    "bullied_children.head()"
   ]
  },
  {
   "cell_type": "markdown",
   "id": "d438358d",
   "metadata": {},
   "source": [
    "### saving bullied_children to a csv"
   ]
  },
  {
   "cell_type": "code",
   "execution_count": null,
   "id": "649ed443",
   "metadata": {},
   "outputs": [],
   "source": [
    "bullied_children.to_csv('../cleaned_data/global_bullied_children_2003_2015_ages_13_17_clean.csv')"
   ]
  },
  {
   "cell_type": "markdown",
   "id": "8e922639",
   "metadata": {},
   "source": [
    "## Looking into mental health subtopic"
   ]
  },
  {
   "cell_type": "code",
   "execution_count": null,
   "id": "09666125",
   "metadata": {},
   "outputs": [],
   "source": [
    "sad_children = mentalhealth[mentalhealth['Subtopic'] == 'Mental Health']\n",
    "sad_children"
   ]
  },
  {
   "cell_type": "code",
   "execution_count": null,
   "id": "1bfdca79",
   "metadata": {},
   "outputs": [],
   "source": [
    "sad_children['Greater_Risk_Question'].unique()"
   ]
  },
  {
   "cell_type": "code",
   "execution_count": null,
   "id": "2323b567",
   "metadata": {},
   "outputs": [],
   "source": [
    "#making sure I wont't lose any countries by only taking the totals\n",
    "#just like I did for bullied_children df\n",
    "\n",
    "len(sad_children['LocationAbbr'].unique())\n",
    "#len = 199"
   ]
  },
  {
   "cell_type": "code",
   "execution_count": null,
   "id": "3ba50ec7",
   "metadata": {},
   "outputs": [],
   "source": [
    "len(sad_children[(sad_children['Age'] == 'Total') &\n",
    "                 ((sad_children['Sex'] == 'Total'))]['LocationAbbr'].unique())\n",
    "#len = 199"
   ]
  },
  {
   "cell_type": "code",
   "execution_count": null,
   "id": "6637389a",
   "metadata": {},
   "outputs": [],
   "source": [
    "sad_children = sad_children[(sad_children['Age'] == 'Total') &\n",
    "                 ((sad_children['Sex'] == 'Total'))]\n",
    "\n",
    "sad_children = sad_children.sort_values(by=['Year', 'LocationAbbr'])\n",
    "\n",
    "sad_children.head()"
   ]
  },
  {
   "cell_type": "code",
   "execution_count": null,
   "id": "e3a4b0c0",
   "metadata": {},
   "outputs": [],
   "source": [
    "sad_children.to_csv('cleaned_data/global_sad_children_2003_2015_ages_13_17_clean.csv')"
   ]
  },
  {
   "cell_type": "code",
   "execution_count": null,
   "id": "0fbf529b",
   "metadata": {},
   "outputs": [],
   "source": []
  }
 ],
 "metadata": {
  "kernelspec": {
   "display_name": "Python 3 (ipykernel)",
   "language": "python",
   "name": "python3"
  },
  "language_info": {
   "codemirror_mode": {
    "name": "ipython",
    "version": 3
   },
   "file_extension": ".py",
   "mimetype": "text/x-python",
   "name": "python",
   "nbconvert_exporter": "python",
   "pygments_lexer": "ipython3",
   "version": "3.9.13"
  }
 },
 "nbformat": 4,
 "nbformat_minor": 5
}
