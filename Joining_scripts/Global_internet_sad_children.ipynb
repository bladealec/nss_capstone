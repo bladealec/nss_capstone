{
 "cells": [
  {
   "cell_type": "code",
   "execution_count": null,
   "id": "f2543007",
   "metadata": {},
   "outputs": [],
   "source": [
    "import pandas as pd"
   ]
  },
  {
   "cell_type": "code",
   "execution_count": null,
   "id": "21a692fb",
   "metadata": {},
   "outputs": [],
   "source": [
    "sad_children = pd.read_csv('../cleaned_data/global_sad_children_2003_2015_ages_13_17_clean.csv')\n",
    "internet = pd.read_csv('../cleaned_data/global_internet_use_1960_2022_clean.csv')"
   ]
  },
  {
   "cell_type": "code",
   "execution_count": null,
   "id": "e633bd6d",
   "metadata": {},
   "outputs": [],
   "source": [
    "sad_children.head()"
   ]
  },
  {
   "cell_type": "code",
   "execution_count": null,
   "id": "1ebda348",
   "metadata": {
    "scrolled": true
   },
   "outputs": [],
   "source": [
    "sad_children = sad_children.drop(sad_children.columns[0], axis = 1)\n",
    "sad_children.columns"
   ]
  },
  {
   "cell_type": "code",
   "execution_count": null,
   "id": "c5e0bbac",
   "metadata": {},
   "outputs": [],
   "source": [
    "sad_children['LocationDesc'] = sad_children['LocationDesc'].str.split('(').str[0]\n",
    "sad_children['LocationDesc'] = sad_children['LocationDesc'].str.split('-').str[0]"
   ]
  },
  {
   "cell_type": "code",
   "execution_count": null,
   "id": "007092c6",
   "metadata": {},
   "outputs": [],
   "source": [
    "internet.head()"
   ]
  },
  {
   "cell_type": "code",
   "execution_count": null,
   "id": "e3a079ed",
   "metadata": {
    "scrolled": true
   },
   "outputs": [],
   "source": [
    "internet = internet.melt(\n",
    "    id_vars=['Country Name'], \n",
    "    var_name='Year', \n",
    "    value_name='Percent Internet Use'\n",
    ")\n",
    "\n",
    "internet.head()"
   ]
  },
  {
   "cell_type": "code",
   "execution_count": null,
   "id": "060263a8",
   "metadata": {},
   "outputs": [],
   "source": [
    "internet.info()"
   ]
  },
  {
   "cell_type": "code",
   "execution_count": null,
   "id": "26862398",
   "metadata": {},
   "outputs": [],
   "source": [
    "sad_children.info()"
   ]
  },
  {
   "cell_type": "code",
   "execution_count": null,
   "id": "4553d23e",
   "metadata": {},
   "outputs": [],
   "source": [
    "sad_children['Year'] = sad_children['Year'].astype(str)"
   ]
  },
  {
   "cell_type": "code",
   "execution_count": null,
   "id": "f59f84b2",
   "metadata": {},
   "outputs": [],
   "source": [
    "globe_internet_childsad = pd.merge(sad_children, internet, \n",
    "                               left_on = ('Year', 'LocationDesc'), right_on = ('Year', 'Country Name'), \n",
    "                               how = 'inner')"
   ]
  },
  {
   "cell_type": "code",
   "execution_count": null,
   "id": "24383135",
   "metadata": {},
   "outputs": [],
   "source": [
    "globe_internet_childsad"
   ]
  },
  {
   "cell_type": "code",
   "execution_count": null,
   "id": "b6b398fa",
   "metadata": {},
   "outputs": [],
   "source": [
    "globe_internet_childsad.to_csv('Global_internet_sadchildren.csv', index = False)"
   ]
  },
  {
   "cell_type": "code",
   "execution_count": null,
   "id": "f721da28",
   "metadata": {},
   "outputs": [],
   "source": [
    "globe_internet_childsad.corr()"
   ]
  },
  {
   "cell_type": "markdown",
   "id": "830f1e47",
   "metadata": {},
   "source": [
    "#### The overall correlation coefficient between internet users and sad children is -0.073"
   ]
  },
  {
   "cell_type": "code",
   "execution_count": null,
   "id": "dfc8490a",
   "metadata": {},
   "outputs": [],
   "source": [
    "globe_internet_childsad['Greater_Risk_Question'].unique()"
   ]
  },
  {
   "cell_type": "code",
   "execution_count": null,
   "id": "4268c6ab",
   "metadata": {},
   "outputs": [],
   "source": [
    "globe_internet_childsad[globe_internet_childsad['Greater_Risk_Question'] == 'Most of the time or always felt lonely'].corr()"
   ]
  },
  {
   "cell_type": "code",
   "execution_count": null,
   "id": "052d5195",
   "metadata": {},
   "outputs": [],
   "source": [
    "globe_internet_childsad[globe_internet_childsad['Greater_Risk_Question'] == 'Most of the time or always were so worried about something that they could not sleep at night'].corr()"
   ]
  },
  {
   "cell_type": "code",
   "execution_count": null,
   "id": "dce773aa",
   "metadata": {},
   "outputs": [],
   "source": [
    "globe_internet_childsad[globe_internet_childsad['Greater_Risk_Question'] == 'Made a plan about how they would attempt suicide'].corr()"
   ]
  },
  {
   "cell_type": "code",
   "execution_count": null,
   "id": "02754dc1",
   "metadata": {},
   "outputs": [],
   "source": [
    "globe_internet_childsad[globe_internet_childsad['Greater_Risk_Question'] == 'Did not have close friends'].corr()"
   ]
  },
  {
   "cell_type": "code",
   "execution_count": null,
   "id": "c7244b8b",
   "metadata": {},
   "outputs": [],
   "source": [
    "globe_internet_childsad[globe_internet_childsad['Greater_Risk_Question'] == 'Seriously considered attempting suicide'].corr()"
   ]
  },
  {
   "cell_type": "code",
   "execution_count": null,
   "id": "e1a5c5c4",
   "metadata": {},
   "outputs": [],
   "source": [
    "globe_internet_childsad[globe_internet_childsad['Greater_Risk_Question'] == 'Attempted suicide'].corr()"
   ]
  },
  {
   "cell_type": "code",
   "execution_count": null,
   "id": "a4d8e0c0",
   "metadata": {},
   "outputs": [],
   "source": [
    "globe_internet_childsad[(globe_internet_childsad['Greater_Risk_Question'] == 'Attempted suicide') |\n",
    "                       (globe_internet_childsad['Greater_Risk_Question'] == 'Did not have close friends')].corr()"
   ]
  },
  {
   "cell_type": "markdown",
   "id": "d0f64d7a",
   "metadata": {},
   "source": [
    "#### The highest correlation coefficient is -0.228 and comes from filter on 'Attempted suicide' or 'Did not have close friends'."
   ]
  },
  {
   "cell_type": "code",
   "execution_count": null,
   "id": "0d4bff44",
   "metadata": {},
   "outputs": [],
   "source": [
    "globe_internet_childsad[(globe_internet_childsad['Greater_Risk_Question'] == 'Attempted suicide') |\n",
    "                       (globe_internet_childsad['Greater_Risk_Question'] == 'Did not have close friends')]"
   ]
  },
  {
   "cell_type": "code",
   "execution_count": null,
   "id": "587d145c",
   "metadata": {},
   "outputs": [],
   "source": []
  }
 ],
 "metadata": {
  "kernelspec": {
   "display_name": "Python 3 (ipykernel)",
   "language": "python",
   "name": "python3"
  },
  "language_info": {
   "codemirror_mode": {
    "name": "ipython",
    "version": 3
   },
   "file_extension": ".py",
   "mimetype": "text/x-python",
   "name": "python",
   "nbconvert_exporter": "python",
   "pygments_lexer": "ipython3",
   "version": "3.9.13"
  }
 },
 "nbformat": 4,
 "nbformat_minor": 5
}
