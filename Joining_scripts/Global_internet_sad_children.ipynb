{
 "cells": [
  {
   "cell_type": "code",
   "execution_count": null,
   "id": "1a7c9c01",
   "metadata": {},
   "outputs": [],
   "source": [
    "import pandas as pd"
   ]
  },
  {
   "cell_type": "code",
   "execution_count": null,
   "id": "657cf95d",
   "metadata": {},
   "outputs": [],
   "source": [
    "sad_children = pd.read_csv('../cleaned_data/global_sad_children_2003_2015_ages_13_17_clean.csv')\n",
    "internet = pd.read_csv('../cleaned_data/global_internet_use_1960_2022_clean.csv')"
   ]
  },
  {
   "cell_type": "code",
   "execution_count": null,
   "id": "1305cd31",
   "metadata": {},
   "outputs": [],
   "source": [
    "sad_children.head()"
   ]
  },
  {
   "cell_type": "code",
   "execution_count": null,
   "id": "073243e6",
   "metadata": {
    "scrolled": true
   },
   "outputs": [],
   "source": [
    "sad_children = sad_children.drop(sad_children.columns[0], axis = 1)\n",
    "sad_children.columns"
   ]
  },
  {
   "cell_type": "code",
   "execution_count": null,
   "id": "024247a6",
   "metadata": {},
   "outputs": [],
   "source": [
    "sad_children['LocationDesc'] = sad_children['LocationDesc'].str.split('(').str[0]\n",
    "sad_children['LocationDesc'] = sad_children['LocationDesc'].str.split('-').str[0]"
   ]
  },
  {
   "cell_type": "code",
   "execution_count": null,
   "id": "4584d709",
   "metadata": {},
   "outputs": [],
   "source": [
    "internet.head()"
   ]
  },
  {
   "cell_type": "code",
   "execution_count": null,
   "id": "574f83f1",
   "metadata": {
    "scrolled": true
   },
   "outputs": [],
   "source": [
    "internet = internet.melt(\n",
    "    id_vars=['Country Name'], \n",
    "    var_name='Year', \n",
    "    value_name='Percent Internet Use'\n",
    ")\n",
    "\n",
    "internet.head()"
   ]
  },
  {
   "cell_type": "code",
   "execution_count": null,
   "id": "0e5dd258",
   "metadata": {},
   "outputs": [],
   "source": [
    "internet.info()"
   ]
  },
  {
   "cell_type": "code",
   "execution_count": null,
   "id": "0cadfc07",
   "metadata": {},
   "outputs": [],
   "source": [
    "sad_children.info()"
   ]
  },
  {
   "cell_type": "code",
   "execution_count": null,
   "id": "bfe324b6",
   "metadata": {},
   "outputs": [],
   "source": [
    "sad_children['Year'] = sad_children['Year'].astype(str)"
   ]
  },
  {
   "cell_type": "code",
   "execution_count": null,
   "id": "d4e9e4d1",
   "metadata": {},
   "outputs": [],
   "source": [
    "globe_internet_childsad = pd.merge(sad_children, internet, \n",
    "                               left_on = ('Year', 'LocationDesc'), right_on = ('Year', 'Country Name'), \n",
    "                               how = 'inner')"
   ]
  },
  {
   "cell_type": "code",
   "execution_count": null,
   "id": "b62d5623",
   "metadata": {},
   "outputs": [],
   "source": [
    "globe_internet_childsad"
   ]
  },
  {
   "cell_type": "code",
   "execution_count": null,
   "id": "67408b29",
   "metadata": {},
   "outputs": [],
   "source": [
    "globe_internet_childsad.to_csv('Global_internet_sadchildren.csv', index = False)"
   ]
  },
  {
   "cell_type": "code",
   "execution_count": null,
   "id": "f611e41a",
   "metadata": {},
   "outputs": [],
   "source": [
    "globe_internet_childsad.corr()"
   ]
  },
  {
   "cell_type": "markdown",
   "id": "febd30c4",
   "metadata": {},
   "source": [
    "#### The overall correlation coefficient between internet users and sad children is -0.073"
   ]
  },
  {
   "cell_type": "code",
   "execution_count": null,
   "id": "ac87ba94",
   "metadata": {},
   "outputs": [],
   "source": [
    "globe_internet_childsad['Greater_Risk_Question'].unique()"
   ]
  },
  {
   "cell_type": "code",
   "execution_count": null,
   "id": "0a29b42e",
   "metadata": {},
   "outputs": [],
   "source": [
    "globe_internet_childsad[globe_internet_childsad['Greater_Risk_Question'] == 'Most of the time or always felt lonely'].corr()"
   ]
  },
  {
   "cell_type": "code",
   "execution_count": null,
   "id": "2ce30f3f",
   "metadata": {},
   "outputs": [],
   "source": [
    "globe_internet_childsad[globe_internet_childsad['Greater_Risk_Question'] == 'Most of the time or always were so worried about something that they could not sleep at night'].corr()"
   ]
  },
  {
   "cell_type": "code",
   "execution_count": null,
   "id": "e3dcc056",
   "metadata": {},
   "outputs": [],
   "source": [
    "globe_internet_childsad[globe_internet_childsad['Greater_Risk_Question'] == 'Made a plan about how they would attempt suicide'].corr()"
   ]
  },
  {
   "cell_type": "code",
   "execution_count": null,
   "id": "0289e138",
   "metadata": {},
   "outputs": [],
   "source": [
    "globe_internet_childsad[globe_internet_childsad['Greater_Risk_Question'] == 'Did not have close friends'].corr()"
   ]
  },
  {
   "cell_type": "code",
   "execution_count": null,
   "id": "9e38fce6",
   "metadata": {},
   "outputs": [],
   "source": [
    "globe_internet_childsad[globe_internet_childsad['Greater_Risk_Question'] == 'Seriously considered attempting suicide'].corr()"
   ]
  },
  {
   "cell_type": "code",
   "execution_count": null,
   "id": "c652e304",
   "metadata": {},
   "outputs": [],
   "source": [
    "globe_internet_childsad[globe_internet_childsad['Greater_Risk_Question'] == 'Attempted suicide'].corr()"
   ]
  },
  {
   "cell_type": "code",
   "execution_count": null,
   "id": "8f55b643",
   "metadata": {},
   "outputs": [],
   "source": [
    "globe_internet_childsad[(globe_internet_childsad['Greater_Risk_Question'] == 'Attempted suicide') |\n",
    "                       (globe_internet_childsad['Greater_Risk_Question'] == 'Did not have close friends')].corr()"
   ]
  },
  {
   "cell_type": "markdown",
   "id": "0bc2db6e",
   "metadata": {},
   "source": [
    "#### The highest correlation coefficient is -0.228 and comes from filter on 'Attempted suicide' or 'Did not have close friends'."
   ]
  },
  {
   "cell_type": "code",
   "execution_count": null,
   "id": "67dfb479",
   "metadata": {},
   "outputs": [],
   "source": [
    "globe_internet_childsad[(globe_internet_childsad['Greater_Risk_Question'] == 'Attempted suicide') |\n",
    "                       (globe_internet_childsad['Greater_Risk_Question'] == 'Did not have close friends')]"
   ]
  },
  {
   "cell_type": "code",
   "execution_count": null,
   "id": "ce6fc54b",
   "metadata": {},
   "outputs": [],
   "source": []
  }
 ],
 "metadata": {
  "kernelspec": {
   "display_name": "Python 3 (ipykernel)",
   "language": "python",
   "name": "python3"
  },
  "language_info": {
   "codemirror_mode": {
    "name": "ipython",
    "version": 3
   },
   "file_extension": ".py",
   "mimetype": "text/x-python",
   "name": "python",
   "nbconvert_exporter": "python",
   "pygments_lexer": "ipython3",
   "version": "3.9.13"
  }
 },
 "nbformat": 4,
 "nbformat_minor": 5
}
