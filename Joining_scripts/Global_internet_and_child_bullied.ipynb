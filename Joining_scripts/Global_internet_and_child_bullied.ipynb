{
 "cells": [
  {
   "cell_type": "code",
   "execution_count": null,
   "id": "3736a803",
   "metadata": {},
   "outputs": [],
   "source": [
    "import pandas as pd"
   ]
  },
  {
   "cell_type": "code",
   "execution_count": null,
   "id": "e1afcc63",
   "metadata": {},
   "outputs": [],
   "source": [
    "bullied = pd.read_csv('../cleaned_data/global_bullied_children_2003_2015_ages_13_17_clean.csv')\n",
    "internet = pd.read_csv('../cleaned_data/global_internet_use_1960_2022_clean.csv')"
   ]
  },
  {
   "cell_type": "code",
   "execution_count": null,
   "id": "9e4ff43c",
   "metadata": {},
   "outputs": [],
   "source": [
    "bullied.head()"
   ]
  },
  {
   "cell_type": "code",
   "execution_count": null,
   "id": "43ea66ef",
   "metadata": {},
   "outputs": [],
   "source": [
    "bullied = bullied.drop(bullied.columns[0], axis = 1)\n",
    "bullied.head()"
   ]
  },
  {
   "cell_type": "code",
   "execution_count": null,
   "id": "de6f9f73",
   "metadata": {},
   "outputs": [],
   "source": [
    "internet.head()"
   ]
  },
  {
   "cell_type": "code",
   "execution_count": null,
   "id": "c4198c54",
   "metadata": {
    "scrolled": true
   },
   "outputs": [],
   "source": [
    "internet = internet.melt(\n",
    "    id_vars=['Country Name'], \n",
    "    var_name='Year', \n",
    "    value_name='Percent Internet Use'\n",
    ")\n",
    "\n",
    "internet.head()"
   ]
  },
  {
   "cell_type": "code",
   "execution_count": null,
   "id": "bf8981c4",
   "metadata": {},
   "outputs": [],
   "source": [
    "bullied['Year'] = bullied['Year'].astype(str)"
   ]
  },
  {
   "cell_type": "code",
   "execution_count": null,
   "id": "646ce6fc",
   "metadata": {},
   "outputs": [],
   "source": [
    "globe_internet_bullied = pd.merge(bullied, internet, \n",
    "                               left_on = ('Year', 'LocationDesc'), right_on = ('Year', 'Country Name'), \n",
    "                               how = 'inner')"
   ]
  },
  {
   "cell_type": "code",
   "execution_count": null,
   "id": "653bf369",
   "metadata": {},
   "outputs": [],
   "source": [
    "globe_internet_bullied"
   ]
  },
  {
   "cell_type": "code",
   "execution_count": null,
   "id": "2cc58b56",
   "metadata": {},
   "outputs": [],
   "source": [
    "globe_internet_bullied.to_csv('../cleaned_data/Global_internet_bullied.csv', index = False)"
   ]
  },
  {
   "cell_type": "code",
   "execution_count": null,
   "id": "7917dce5",
   "metadata": {},
   "outputs": [],
   "source": [
    "globe_internet_bullied.corr()"
   ]
  },
  {
   "cell_type": "markdown",
   "id": "06d48eda",
   "metadata": {},
   "source": [
    "#### Correlation Coefficient for Internet Users and Child Bullying is -0.235"
   ]
  },
  {
   "cell_type": "code",
   "execution_count": null,
   "id": "7b36a3a2",
   "metadata": {},
   "outputs": [],
   "source": [
    "globe_internet_bullied['ShortQuestionText'].unique()"
   ]
  },
  {
   "cell_type": "code",
   "execution_count": null,
   "id": "7972020d",
   "metadata": {},
   "outputs": [],
   "source": [
    "globe_internet_bullied[globe_internet_bullied['ShortQuestionText'] == 'Bullied by hitting'].corr()"
   ]
  },
  {
   "cell_type": "code",
   "execution_count": null,
   "id": "f3c44498",
   "metadata": {},
   "outputs": [],
   "source": [
    "globe_internet_bullied[globe_internet_bullied['ShortQuestionText'] == 'Bullied'].corr()"
   ]
  },
  {
   "cell_type": "code",
   "execution_count": null,
   "id": "9a301152",
   "metadata": {},
   "outputs": [],
   "source": [
    "globe_internet_bullied[globe_internet_bullied['ShortQuestionText'] == 'Physical fight'].corr()"
   ]
  },
  {
   "cell_type": "code",
   "execution_count": null,
   "id": "9c220d0c",
   "metadata": {},
   "outputs": [],
   "source": [
    "globe_internet_bullied[globe_internet_bullied['ShortQuestionText'] == 'Physically attacked'].corr()"
   ]
  },
  {
   "cell_type": "code",
   "execution_count": null,
   "id": "1986c524",
   "metadata": {},
   "outputs": [],
   "source": [
    "globe_internet_bullied[(globe_internet_bullied['ShortQuestionText'] == 'Bullied by hitting') |\n",
    "                      (globe_internet_bullied['ShortQuestionText'] == 'Bullied')].corr()"
   ]
  },
  {
   "cell_type": "markdown",
   "id": "ae729c16",
   "metadata": {},
   "source": [
    "#### The highest correlation coefficient for internet users and child bullying is -0.429 and comes from filtering the 'ShortQuestionText' to 'Bullied'."
   ]
  },
  {
   "cell_type": "code",
   "execution_count": null,
   "id": "5b1995a4",
   "metadata": {},
   "outputs": [],
   "source": []
  }
 ],
 "metadata": {
  "kernelspec": {
   "display_name": "Python 3 (ipykernel)",
   "language": "python",
   "name": "python3"
  },
  "language_info": {
   "codemirror_mode": {
    "name": "ipython",
    "version": 3
   },
   "file_extension": ".py",
   "mimetype": "text/x-python",
   "name": "python",
   "nbconvert_exporter": "python",
   "pygments_lexer": "ipython3",
   "version": "3.9.13"
  }
 },
 "nbformat": 4,
 "nbformat_minor": 5
}
