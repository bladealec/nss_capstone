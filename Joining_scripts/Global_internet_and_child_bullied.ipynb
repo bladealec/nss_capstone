{
 "cells": [
  {
   "cell_type": "code",
   "execution_count": null,
   "id": "35e84c0b",
   "metadata": {},
   "outputs": [],
   "source": [
    "import pandas as pd"
   ]
  },
  {
   "cell_type": "code",
   "execution_count": null,
   "id": "34ecca40",
   "metadata": {},
   "outputs": [],
   "source": [
    "bullied = pd.read_csv('../cleaned_data/global_bullied_children_2003_2015_ages_13_17_clean.csv')\n",
    "internet = pd.read_csv('../cleaned_data/global_internet_use_1960_2022_clean.csv')"
   ]
  },
  {
   "cell_type": "code",
   "execution_count": null,
   "id": "3d9f1585",
   "metadata": {},
   "outputs": [],
   "source": [
    "bullied.head()"
   ]
  },
  {
   "cell_type": "code",
   "execution_count": null,
   "id": "7137cb2f",
   "metadata": {},
   "outputs": [],
   "source": [
    "bullied = bullied.drop(bullied.columns[0], axis = 1)\n",
    "bullied.head()"
   ]
  },
  {
   "cell_type": "code",
   "execution_count": null,
   "id": "e1f9ef10",
   "metadata": {},
   "outputs": [],
   "source": [
    "internet.head()"
   ]
  },
  {
   "cell_type": "code",
   "execution_count": null,
   "id": "c8071380",
   "metadata": {
    "scrolled": true
   },
   "outputs": [],
   "source": [
    "internet = internet.melt(\n",
    "    id_vars=['Country Name'], \n",
    "    var_name='Year', \n",
    "    value_name='Percent Internet Use'\n",
    ")\n",
    "\n",
    "internet.head()"
   ]
  },
  {
   "cell_type": "code",
   "execution_count": null,
   "id": "ac133300",
   "metadata": {},
   "outputs": [],
   "source": [
    "bullied['Year'] = bullied['Year'].astype(str)"
   ]
  },
  {
   "cell_type": "code",
   "execution_count": null,
   "id": "9142cd56",
   "metadata": {},
   "outputs": [],
   "source": [
    "globe_internet_bullied = pd.merge(bullied, internet, \n",
    "                               left_on = ('Year', 'LocationDesc'), right_on = ('Year', 'Country Name'), \n",
    "                               how = 'inner')"
   ]
  },
  {
   "cell_type": "code",
   "execution_count": null,
   "id": "d7ee5f15",
   "metadata": {},
   "outputs": [],
   "source": [
    "globe_internet_bullied"
   ]
  },
  {
   "cell_type": "code",
   "execution_count": null,
   "id": "155f68d7",
   "metadata": {},
   "outputs": [],
   "source": [
    "globe_internet_bullied.to_csv('../cleaned_data/Global_internet_bullied.csv', index = False)"
   ]
  },
  {
   "cell_type": "code",
   "execution_count": null,
   "id": "0e21978a",
   "metadata": {},
   "outputs": [],
   "source": [
    "globe_internet_bullied.corr()"
   ]
  },
  {
   "cell_type": "markdown",
   "id": "27941a49",
   "metadata": {},
   "source": [
    "#### Correlation Coefficient for Internet Users and Child Bullying is -0.235"
   ]
  },
  {
   "cell_type": "code",
   "execution_count": null,
   "id": "7969b9ce",
   "metadata": {},
   "outputs": [],
   "source": [
    "globe_internet_bullied['ShortQuestionText'].unique()"
   ]
  },
  {
   "cell_type": "code",
   "execution_count": null,
   "id": "a29679cb",
   "metadata": {},
   "outputs": [],
   "source": [
    "globe_internet_bullied[globe_internet_bullied['ShortQuestionText'] == 'Bullied by hitting'].corr()"
   ]
  },
  {
   "cell_type": "code",
   "execution_count": null,
   "id": "dc697e71",
   "metadata": {},
   "outputs": [],
   "source": [
    "globe_internet_bullied[globe_internet_bullied['ShortQuestionText'] == 'Bullied'].corr()"
   ]
  },
  {
   "cell_type": "code",
   "execution_count": null,
   "id": "59ff9a8f",
   "metadata": {},
   "outputs": [],
   "source": [
    "globe_internet_bullied[globe_internet_bullied['ShortQuestionText'] == 'Physical fight'].corr()"
   ]
  },
  {
   "cell_type": "code",
   "execution_count": null,
   "id": "70bdb679",
   "metadata": {},
   "outputs": [],
   "source": [
    "globe_internet_bullied[globe_internet_bullied['ShortQuestionText'] == 'Physically attacked'].corr()"
   ]
  },
  {
   "cell_type": "code",
   "execution_count": null,
   "id": "18bec6f7",
   "metadata": {},
   "outputs": [],
   "source": [
    "globe_internet_bullied[(globe_internet_bullied['ShortQuestionText'] == 'Bullied by hitting') |\n",
    "                      (globe_internet_bullied['ShortQuestionText'] == 'Bullied')].corr()"
   ]
  },
  {
   "cell_type": "markdown",
   "id": "9ccd233c",
   "metadata": {},
   "source": [
    "#### The highest correlation coefficient for internet users and child bullying is -0.429 and comes from filtering the 'ShortQuestionText' to 'Bullied'."
   ]
  },
  {
   "cell_type": "code",
   "execution_count": null,
   "id": "60f1017d",
   "metadata": {},
   "outputs": [],
   "source": []
  }
 ],
 "metadata": {
  "kernelspec": {
   "display_name": "Python 3 (ipykernel)",
   "language": "python",
   "name": "python3"
  },
  "language_info": {
   "codemirror_mode": {
    "name": "ipython",
    "version": 3
   },
   "file_extension": ".py",
   "mimetype": "text/x-python",
   "name": "python",
   "nbconvert_exporter": "python",
   "pygments_lexer": "ipython3",
   "version": "3.9.13"
  }
 },
 "nbformat": 4,
 "nbformat_minor": 5
}
