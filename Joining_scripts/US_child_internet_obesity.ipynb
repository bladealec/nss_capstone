{
 "cells": [
  {
   "cell_type": "code",
   "execution_count": null,
   "id": "b8b63acc",
   "metadata": {},
   "outputs": [],
   "source": [
    "import pandas as pd"
   ]
  },
  {
   "cell_type": "markdown",
   "id": "3605892c",
   "metadata": {},
   "source": [
    "#### joining child internet access df to child obesity df"
   ]
  },
  {
   "cell_type": "code",
   "execution_count": null,
   "id": "cbda31ca",
   "metadata": {},
   "outputs": [],
   "source": [
    "access = pd.read_csv('cleaned_data/USA_internet_access_state.csv')\n",
    "access['State'] = access['State'].str.strip('.')\n",
    "access.head(3)"
   ]
  },
  {
   "cell_type": "code",
   "execution_count": null,
   "id": "1f6c2f43",
   "metadata": {
    "scrolled": false
   },
   "outputs": [],
   "source": [
    "obesity = pd.read_csv('cleaned_data/USA_child_obesity_2001_2019.csv')\n",
    "obesity = obesity.drop(columns = ['Unnamed: 0'])\n",
    "obesity.head(3)"
   ]
  },
  {
   "cell_type": "code",
   "execution_count": null,
   "id": "860d9b96",
   "metadata": {},
   "outputs": [],
   "source": [
    "print('access years = ', access.Year.unique())\n",
    "print('obesity years = ', obesity.YearStart.unique())"
   ]
  },
  {
   "cell_type": "markdown",
   "id": "a0016fe0",
   "metadata": {},
   "source": [
    "#### obesity df does not have year 2010 or 2012. I am changing 2013 in obesity df to 2012 and will make this known in the final report."
   ]
  },
  {
   "cell_type": "code",
   "execution_count": null,
   "id": "12e15205",
   "metadata": {},
   "outputs": [],
   "source": [
    "for index, row in obesity.iterrows():\n",
    "    if row.YearStart == 2013:\n",
    "        obesity.loc[index, 'YearStart'] = 2012"
   ]
  },
  {
   "cell_type": "code",
   "execution_count": null,
   "id": "e9436d99",
   "metadata": {},
   "outputs": [],
   "source": [
    "access_obesity = pd.merge(access, obesity, \n",
    "                               left_on = ('Year', 'State'), right_on = ('YearStart', 'LocationDesc'), \n",
    "                               how = 'left')\n",
    "access_obesity.head(3)"
   ]
  },
  {
   "cell_type": "code",
   "execution_count": null,
   "id": "fe702eeb",
   "metadata": {},
   "outputs": [],
   "source": [
    "access_obesity = access_obesity.drop(access_obesity.columns[[2, 3, 4, 6, 7, 11, 13]], axis = 1)"
   ]
  },
  {
   "cell_type": "code",
   "execution_count": null,
   "id": "b404c984",
   "metadata": {
    "scrolled": true
   },
   "outputs": [],
   "source": [
    "access_obesity"
   ]
  },
  {
   "cell_type": "code",
   "execution_count": null,
   "id": "74bbcfdc",
   "metadata": {},
   "outputs": [],
   "source": [
    "test = access_obesity.dropna()\n",
    "test = test[test.Year == 2012]\n",
    "len(test.State.unique())\n",
    "#amount of states accounted for by year\n",
    "#2001:21 , 2003:31 , 2007:41 , 2009:42 , 2011:44 , 2012: 42"
   ]
  },
  {
   "cell_type": "code",
   "execution_count": null,
   "id": "3bb93996",
   "metadata": {},
   "outputs": [],
   "source": [
    "test = access_obesity[access_obesity.Question.isna()]\n",
    "test[test['Year']==2012]"
   ]
  },
  {
   "cell_type": "code",
   "execution_count": null,
   "id": "87ac80f1",
   "metadata": {},
   "outputs": [],
   "source": [
    "access_obesity = access_obesity.dropna()"
   ]
  },
  {
   "cell_type": "code",
   "execution_count": null,
   "id": "6aab7d69",
   "metadata": {},
   "outputs": [],
   "source": [
    "access_obesity.to_csv('cleaned_data/USA_child_internet_obesity_2001_2012.csv')"
   ]
  },
  {
   "cell_type": "code",
   "execution_count": null,
   "id": "14b100bf",
   "metadata": {},
   "outputs": [],
   "source": [
    "access_obesity.corr()"
   ]
  },
  {
   "cell_type": "markdown",
   "id": "5e8da19a",
   "metadata": {},
   "source": [
    "#### correlation coefficient of child internet access to childhood nutritional health problems is 0.1254"
   ]
  },
  {
   "cell_type": "code",
   "execution_count": null,
   "id": "85d21587",
   "metadata": {},
   "outputs": [],
   "source": []
  }
 ],
 "metadata": {
  "kernelspec": {
   "display_name": "Python 3 (ipykernel)",
   "language": "python",
   "name": "python3"
  },
  "language_info": {
   "codemirror_mode": {
    "name": "ipython",
    "version": 3
   },
   "file_extension": ".py",
   "mimetype": "text/x-python",
   "name": "python",
   "nbconvert_exporter": "python",
   "pygments_lexer": "ipython3",
   "version": "3.9.13"
  }
 },
 "nbformat": 4,
 "nbformat_minor": 5
}
