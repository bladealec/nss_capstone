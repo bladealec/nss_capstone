{
 "cells": [
  {
   "cell_type": "code",
   "execution_count": null,
   "id": "552a123b",
   "metadata": {},
   "outputs": [],
   "source": [
    "import pandas as pd"
   ]
  },
  {
   "cell_type": "code",
   "execution_count": null,
   "id": "7e0e6899",
   "metadata": {},
   "outputs": [],
   "source": [
    "global_children = pd.read_csv('data/Child Mentality/global_student_mentalhealth_2003_2015.csv')"
   ]
  },
  {
   "cell_type": "code",
   "execution_count": null,
   "id": "eea3e5d5",
   "metadata": {},
   "outputs": [],
   "source": [
    "global_children.head()"
   ]
  },
  {
   "cell_type": "code",
   "execution_count": null,
   "id": "97991130",
   "metadata": {},
   "outputs": [],
   "source": [
    "global_children['ShortQuestionText'].unique()"
   ]
  },
  {
   "cell_type": "code",
   "execution_count": null,
   "id": "e538245a",
   "metadata": {},
   "outputs": [],
   "source": [
    "obese_children = global_children[(global_children['ShortQuestionText'] == 'Obesity') | \n",
    "                                (global_children['ShortQuestionText'] == 'Overweight')]"
   ]
  },
  {
   "cell_type": "code",
   "execution_count": null,
   "id": "bc0cffc2",
   "metadata": {},
   "outputs": [],
   "source": [
    "obese_children['Greater_Risk_Question'].unique()"
   ]
  },
  {
   "cell_type": "code",
   "execution_count": null,
   "id": "012c3416",
   "metadata": {
    "scrolled": true
   },
   "outputs": [],
   "source": [
    "obese_children.head()"
   ]
  },
  {
   "cell_type": "code",
   "execution_count": null,
   "id": "de16681b",
   "metadata": {},
   "outputs": [],
   "source": [
    "obese_children.columns"
   ]
  },
  {
   "cell_type": "code",
   "execution_count": null,
   "id": "493ef342",
   "metadata": {},
   "outputs": [],
   "source": [
    "obese_children['Lesser_Risk_Question'].unique()"
   ]
  },
  {
   "cell_type": "code",
   "execution_count": null,
   "id": "59e0beb6",
   "metadata": {},
   "outputs": [],
   "source": [
    "obese_children = obese_children[['Year', 'LocationDesc', 'Greater_Risk_Question', 'Data_Value_Symbol',\n",
    "                'Greater_Risk_Data_Value', 'Sample_Size', 'Sex', 'Age']]"
   ]
  },
  {
   "cell_type": "code",
   "execution_count": null,
   "id": "e25a541d",
   "metadata": {},
   "outputs": [],
   "source": []
  },
  {
   "cell_type": "code",
   "execution_count": null,
   "id": "32ff6450",
   "metadata": {},
   "outputs": [],
   "source": [
    "obese_children"
   ]
  },
  {
   "cell_type": "code",
   "execution_count": null,
   "id": "4c4c45e3",
   "metadata": {},
   "outputs": [],
   "source": []
  },
  {
   "cell_type": "code",
   "execution_count": null,
   "id": "610c3809",
   "metadata": {},
   "outputs": [],
   "source": [
    "globe_internet = pd.read_csv('cleaned_data/global_internet_use_1960_2022_clean.csv')"
   ]
  },
  {
   "cell_type": "code",
   "execution_count": null,
   "id": "7c46c98b",
   "metadata": {},
   "outputs": [],
   "source": [
    "globe_internet.head()"
   ]
  },
  {
   "cell_type": "code",
   "execution_count": null,
   "id": "0535c6f7",
   "metadata": {},
   "outputs": [],
   "source": [
    "globe_internet = globe_internet.melt(\n",
    "    id_vars=['Country Name'], \n",
    "    var_name='Year', \n",
    "    value_name='Percent Internet Use'\n",
    ")"
   ]
  },
  {
   "cell_type": "code",
   "execution_count": null,
   "id": "edde727c",
   "metadata": {},
   "outputs": [],
   "source": [
    "globe_internet.head()"
   ]
  },
  {
   "cell_type": "code",
   "execution_count": null,
   "id": "e7e56950",
   "metadata": {},
   "outputs": [],
   "source": [
    "globe_internet.info()"
   ]
  },
  {
   "cell_type": "code",
   "execution_count": null,
   "id": "afd3646e",
   "metadata": {},
   "outputs": [],
   "source": [
    "obese_children['Year'] = obese_children['Year'].astype(str)"
   ]
  },
  {
   "cell_type": "code",
   "execution_count": null,
   "id": "ec6e293d",
   "metadata": {},
   "outputs": [],
   "source": [
    "globe_internet_childobesity = pd.merge(obese_children, globe_internet, \n",
    "                               left_on = ('Year', 'LocationDesc'), right_on = ('Year', 'Country Name'), \n",
    "                               how = 'inner')"
   ]
  },
  {
   "cell_type": "code",
   "execution_count": null,
   "id": "4db886d5",
   "metadata": {},
   "outputs": [],
   "source": [
    "globe_internet_childobesity['LocationDesc'].unique()"
   ]
  },
  {
   "cell_type": "code",
   "execution_count": null,
   "id": "343dd9ad",
   "metadata": {
    "scrolled": true
   },
   "outputs": [],
   "source": [
    "sorted(obese_children.LocationDesc.unique())"
   ]
  },
  {
   "cell_type": "code",
   "execution_count": null,
   "id": "aef0cc58",
   "metadata": {},
   "outputs": [],
   "source": [
    "obese_children['LocationDesc'] = obese_children['LocationDesc'].str.split('(').str[0]\n",
    "obese_children['LocationDesc'] = obese_children['LocationDesc'].str.split('-').str[0]"
   ]
  },
  {
   "cell_type": "code",
   "execution_count": null,
   "id": "8633a0f1",
   "metadata": {},
   "outputs": [],
   "source": [
    "sorted(obese_children.LocationDesc.unique())"
   ]
  },
  {
   "cell_type": "code",
   "execution_count": null,
   "id": "53139abe",
   "metadata": {},
   "outputs": [],
   "source": [
    "sorted(globe_internet['Country Name'].unique())"
   ]
  },
  {
   "cell_type": "code",
   "execution_count": null,
   "id": "b7642564",
   "metadata": {},
   "outputs": [],
   "source": [
    "globe_internet_childobesity.corr()"
   ]
  },
  {
   "cell_type": "markdown",
   "id": "c4eaf7aa",
   "metadata": {},
   "source": [
    "#### The correlation coefficient (on the global scale) for childhood obesity and internet users is 0.372"
   ]
  },
  {
   "cell_type": "code",
   "execution_count": null,
   "id": "f667d272",
   "metadata": {},
   "outputs": [],
   "source": [
    "obese_children.to_csv('global_obese_children.csv', index = False)"
   ]
  },
  {
   "cell_type": "code",
   "execution_count": null,
   "id": "a34d624f",
   "metadata": {},
   "outputs": [],
   "source": [
    "globe_internet.to_csv('global_internet_use.csv', index = False)"
   ]
  },
  {
   "cell_type": "code",
   "execution_count": null,
   "id": "ef602572",
   "metadata": {},
   "outputs": [],
   "source": []
  }
 ],
 "metadata": {
  "kernelspec": {
   "display_name": "Python 3 (ipykernel)",
   "language": "python",
   "name": "python3"
  },
  "language_info": {
   "codemirror_mode": {
    "name": "ipython",
    "version": 3
   },
   "file_extension": ".py",
   "mimetype": "text/x-python",
   "name": "python",
   "nbconvert_exporter": "python",
   "pygments_lexer": "ipython3",
   "version": "3.9.13"
  }
 },
 "nbformat": 4,
 "nbformat_minor": 5
}
