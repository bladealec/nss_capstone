{
 "cells": [
  {
   "cell_type": "code",
   "execution_count": null,
   "id": "4afc9015",
   "metadata": {},
   "outputs": [],
   "source": [
    "import pandas as pd"
   ]
  },
  {
   "cell_type": "code",
   "execution_count": null,
   "id": "c8a3218c",
   "metadata": {},
   "outputs": [],
   "source": [
    "test_score = pd.read_csv('../cleaned_data/state_grade_composite_scores_1996_2022_clean.csv')\n",
    "internet = pd.read_csv('../cleaned_data/USA_internet_access_state.csv')"
   ]
  },
  {
   "cell_type": "code",
   "execution_count": null,
   "id": "184d6f83",
   "metadata": {},
   "outputs": [],
   "source": [
    "test_score.head()"
   ]
  },
  {
   "cell_type": "code",
   "execution_count": null,
   "id": "48b44abe",
   "metadata": {},
   "outputs": [],
   "source": [
    "internet.head()"
   ]
  },
  {
   "cell_type": "code",
   "execution_count": null,
   "id": "ea5275a2",
   "metadata": {},
   "outputs": [],
   "source": [
    "internet = internet.drop(internet.columns[[2,3,4]], axis=1)\n",
    "internet['State'] = internet['State'].str.strip('.')"
   ]
  },
  {
   "cell_type": "code",
   "execution_count": null,
   "id": "ef5128a1",
   "metadata": {},
   "outputs": [],
   "source": [
    "internet.head()"
   ]
  },
  {
   "cell_type": "markdown",
   "id": "f0b997ee",
   "metadata": {},
   "source": [
    "#### I need to replace all the state abbreviations in the test_score data frame with the full name of state"
   ]
  },
  {
   "cell_type": "code",
   "execution_count": null,
   "id": "c1261ca5",
   "metadata": {},
   "outputs": [],
   "source": [
    "state_abbreviations = {\n",
    "    'AL': 'Alabama',\n",
    "    'AK': 'Alaska',\n",
    "    'AZ': 'Arizona',\n",
    "    'AR': 'Arkansas',\n",
    "    'CA': 'California',\n",
    "    'CO': 'Colorado',\n",
    "    'CT': 'Connecticut',\n",
    "    'DE': 'Delaware',\n",
    "    'FL': 'Florida',\n",
    "    'GA': 'Georgia',\n",
    "    'HI': 'Hawaii',\n",
    "    'ID': 'Idaho',\n",
    "    'IL': 'Illinois',\n",
    "    'IN': 'Indiana',\n",
    "    'IA': 'Iowa',\n",
    "    'KS': 'Kansas',\n",
    "    'KY': 'Kentucky',\n",
    "    'LA': 'Louisiana',\n",
    "    'ME': 'Maine',\n",
    "    'MD': 'Maryland',\n",
    "    'MA': 'Massachusetts',\n",
    "    'MI': 'Michigan',\n",
    "    'MN': 'Minnesota',\n",
    "    'MS': 'Mississippi',\n",
    "    'MO': 'Missouri',\n",
    "    'MT': 'Montana',\n",
    "    'NE': 'Nebraska',\n",
    "    'NV': 'Nevada',\n",
    "    'NH': 'New Hampshire',\n",
    "    'NJ': 'New Jersey',\n",
    "    'NM': 'New Mexico',\n",
    "    'NY': 'New York',\n",
    "    'NC': 'North Carolina',\n",
    "    'ND': 'North Dakota',\n",
    "    'OH': 'Ohio',\n",
    "    'OK': 'Oklahoma',\n",
    "    'OR': 'Oregon',\n",
    "    'PA': 'Pennsylvania',\n",
    "    'RI': 'Rhode Island',\n",
    "    'SC': 'South Carolina',\n",
    "    'SD': 'South Dakota',\n",
    "    'TN': 'Tennessee',\n",
    "    'TX': 'Texas',\n",
    "    'UT': 'Utah',\n",
    "    'VT': 'Vermont',\n",
    "    'VA': 'Virginia',\n",
    "    'WA': 'Washington',\n",
    "    'WV': 'West Virginia',\n",
    "    'WI': 'Wisconsin',\n",
    "    'WY': 'Wyoming'\n",
    "}\n",
    "\n",
    "def replace_state_abbreviations(text):\n",
    "    for abbreviation, full_name in state_abbreviations.items():\n",
    "        text = text.replace(abbreviation, full_name)\n",
    "    return text"
   ]
  },
  {
   "cell_type": "code",
   "execution_count": null,
   "id": "0308409b",
   "metadata": {},
   "outputs": [],
   "source": [
    "test_score['state'] = test_score['state'].apply(replace_state_abbreviations)"
   ]
  },
  {
   "cell_type": "code",
   "execution_count": null,
   "id": "f2cbd694",
   "metadata": {
    "scrolled": true
   },
   "outputs": [],
   "source": [
    "test_score.head()"
   ]
  },
  {
   "cell_type": "code",
   "execution_count": null,
   "id": "05361d0e",
   "metadata": {},
   "outputs": [],
   "source": [
    "internet.info()"
   ]
  },
  {
   "cell_type": "code",
   "execution_count": null,
   "id": "fc34d326",
   "metadata": {},
   "outputs": [],
   "source": [
    "test_score.info()"
   ]
  },
  {
   "cell_type": "code",
   "execution_count": null,
   "id": "8b518e65",
   "metadata": {},
   "outputs": [],
   "source": [
    "internet_testscore = pd.merge(internet, test_score, \n",
    "                               left_on = ('Year', 'State'), right_on = ('year', 'state'), \n",
    "                               how = 'left')"
   ]
  },
  {
   "cell_type": "code",
   "execution_count": null,
   "id": "c3b85ebf",
   "metadata": {},
   "outputs": [],
   "source": [
    "internet_testscore = internet_testscore.dropna()"
   ]
  },
  {
   "cell_type": "code",
   "execution_count": null,
   "id": "23f6e7f9",
   "metadata": {},
   "outputs": [],
   "source": [
    "internet_testscore"
   ]
  },
  {
   "cell_type": "code",
   "execution_count": null,
   "id": "61ddd67f",
   "metadata": {},
   "outputs": [],
   "source": [
    "internet_testscore.corr()"
   ]
  },
  {
   "cell_type": "markdown",
   "id": "159cb3a8",
   "metadata": {},
   "source": [
    "#### correlation coefficient for test scores and child internet access is -0.017"
   ]
  },
  {
   "cell_type": "code",
   "execution_count": null,
   "id": "faaa4438",
   "metadata": {},
   "outputs": [],
   "source": [
    "internet_testscore['grade'] = internet_testscore['grade'].astype(int)"
   ]
  },
  {
   "cell_type": "code",
   "execution_count": null,
   "id": "284c97f8",
   "metadata": {},
   "outputs": [],
   "source": [
    "internet_testscore.head()"
   ]
  },
  {
   "cell_type": "code",
   "execution_count": null,
   "id": "62a413a1",
   "metadata": {},
   "outputs": [],
   "source": [
    "internet_testscore.to_csv('USA_internet_testscore.csv', index = False)"
   ]
  },
  {
   "cell_type": "code",
   "execution_count": null,
   "id": "444e0570",
   "metadata": {},
   "outputs": [],
   "source": []
  }
 ],
 "metadata": {
  "kernelspec": {
   "display_name": "Python 3 (ipykernel)",
   "language": "python",
   "name": "python3"
  },
  "language_info": {
   "codemirror_mode": {
    "name": "ipython",
    "version": 3
   },
   "file_extension": ".py",
   "mimetype": "text/x-python",
   "name": "python",
   "nbconvert_exporter": "python",
   "pygments_lexer": "ipython3",
   "version": "3.9.13"
  }
 },
 "nbformat": 4,
 "nbformat_minor": 5
}
