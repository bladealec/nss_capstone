{
 "cells": [
  {
   "cell_type": "markdown",
   "id": "ab836274",
   "metadata": {},
   "source": [
    "## Finding Correlation Coefficient between USA child internet access and student test scores"
   ]
  },
  {
   "cell_type": "code",
   "execution_count": 1,
   "id": "477f98a6",
   "metadata": {},
   "outputs": [],
   "source": [
    "import pandas as pd"
   ]
  },
  {
   "cell_type": "code",
   "execution_count": null,
   "id": "7358c93f",
   "metadata": {},
   "outputs": [],
   "source": [
    "internet = pd.read_csv(r'C:\\Users\\alecb\\Documents\\NSS\\Python\\projects\\alec_capstone\\cleaned_data\\USA_internet_access_everyone_and_3_to_17_clean2.csv')\n",
    "test = pd.read_csv(r'C:\\Users\\alecb\\Documents\\NSS\\Python\\projects\\alec_capstone\\cleaned_data\\US_testscores_national_1978_2020.csv')"
   ]
  },
  {
   "cell_type": "code",
   "execution_count": null,
   "id": "e35fd011",
   "metadata": {
    "scrolled": true
   },
   "outputs": [],
   "source": [
    "internet.head()"
   ]
  },
  {
   "cell_type": "code",
   "execution_count": null,
   "id": "07457f15",
   "metadata": {},
   "outputs": [],
   "source": [
    "internet['Percent of children with access'] = internet['Percent of children with access'].str.strip('%')\n",
    "internet['Percent of children with access'] = internet['Percent of children with access'].astype(float)"
   ]
  },
  {
   "cell_type": "code",
   "execution_count": null,
   "id": "8cd5863a",
   "metadata": {},
   "outputs": [],
   "source": [
    "internet.head()"
   ]
  },
  {
   "cell_type": "code",
   "execution_count": null,
   "id": "b1705890",
   "metadata": {
    "scrolled": true
   },
   "outputs": [],
   "source": [
    "test.head()"
   ]
  },
  {
   "cell_type": "markdown",
   "id": "515f11f8",
   "metadata": {},
   "source": [
    "#### checking if internet and test have the same years "
   ]
  },
  {
   "cell_type": "code",
   "execution_count": null,
   "id": "1d811461",
   "metadata": {},
   "outputs": [],
   "source": [
    "print(test.year.unique())\n",
    "print(internet.Year.unique())"
   ]
  },
  {
   "cell_type": "code",
   "execution_count": null,
   "id": "d96f7d2b",
   "metadata": {},
   "outputs": [],
   "source": [
    "#adjusting 'test' years to join better\n",
    "for index, row in test.iterrows():\n",
    "    \n",
    "    if row.year == 1988:\n",
    "        test.loc[index, 'year'] = 1989\n",
    "        \n",
    "    elif (row.year == 1994) | (row.year == 1996):\n",
    "        test.loc[index, 'year'] = 1995\n",
    "    \n",
    "    elif row.year == 1999:\n",
    "        test.loc[index, 'year'] = 1998\n",
    "        \n",
    "    elif row.year == 2004:\n",
    "        test.loc[index, 'year'] = 2003\n",
    "        \n",
    "    elif row.year == 2022:\n",
    "        test.loc[index, 'year'] = 2021"
   ]
  },
  {
   "cell_type": "code",
   "execution_count": null,
   "id": "3f5389f8",
   "metadata": {},
   "outputs": [],
   "source": [
    "for index, row in internet.iterrows():\n",
    "    \n",
    "    if (row.Year == 2007) | (row.Year == 2009):\n",
    "        internet.loc[index, 'Year'] = 2008"
   ]
  },
  {
   "cell_type": "code",
   "execution_count": null,
   "id": "f3a5df89",
   "metadata": {},
   "outputs": [],
   "source": [
    "print(test.year.unique())\n",
    "print(internet.Year.unique())"
   ]
  },
  {
   "cell_type": "markdown",
   "id": "54f66ddc",
   "metadata": {},
   "source": [
    "#### grouping to national level and seperating by grades and subject"
   ]
  },
  {
   "cell_type": "code",
   "execution_count": null,
   "id": "dd7b9917",
   "metadata": {},
   "outputs": [],
   "source": [
    "test = test.groupby(by = ['year', 'Subject', 'Jurisdiction', 'Age'], as_index = False)['Composite Score'].mean()\n",
    "internet = internet.groupby(by = ['Year', 'Country'])['Percent of children with access'].mean()"
   ]
  },
  {
   "cell_type": "code",
   "execution_count": null,
   "id": "8c5f8e36",
   "metadata": {},
   "outputs": [],
   "source": [
    "test4_reading = test[(test['Age'] == 9) & (test['Subject'] == 'Reading')]\n",
    "test4_math = test[(test['Age'] == 9) & (test['Subject'] == 'Mathematics')]\n",
    "\n",
    "test8_reading = test[(test['Age'] == 13) & (test['Subject'] == 'Reading')]\n",
    "test8_math = test[(test['Age'] == 13) & (test['Subject'] == 'Mathematics')]\n",
    "\n",
    "test12_reading = test[(test['Age'] == 17) & (test['Subject'] == 'Reading')]\n",
    "test12_math = test[(test['Age'] == 17) & (test['Subject'] == 'Mathematics')]"
   ]
  },
  {
   "cell_type": "markdown",
   "id": "494f7e26",
   "metadata": {},
   "source": [
    "#### merging each grade to internet df"
   ]
  },
  {
   "cell_type": "code",
   "execution_count": null,
   "id": "60ac5637",
   "metadata": {},
   "outputs": [],
   "source": [
    "internet_test4_read = pd.merge(internet, test4_reading, \n",
    "                               left_on = 'Year', right_on = 'year', \n",
    "                               how = 'inner')\n",
    "\n",
    "internet_test4_math = pd.merge(internet, test4_math, \n",
    "                               left_on = 'Year', right_on = 'year', \n",
    "                               how = 'inner')"
   ]
  },
  {
   "cell_type": "code",
   "execution_count": null,
   "id": "1d2c2624",
   "metadata": {},
   "outputs": [],
   "source": [
    "internet_test8_read = pd.merge(internet, test8_reading, \n",
    "                               left_on = 'Year', right_on = 'year', \n",
    "                               how = 'inner')\n",
    "\n",
    "internet_test8_math = pd.merge(internet, test8_math, \n",
    "                               left_on = 'Year', right_on = 'year', \n",
    "                               how = 'inner')"
   ]
  },
  {
   "cell_type": "code",
   "execution_count": null,
   "id": "054be244",
   "metadata": {},
   "outputs": [],
   "source": [
    "internet_test12_read = pd.merge(internet, test12_reading, \n",
    "                               left_on = 'Year', right_on = 'year', \n",
    "                               how = 'inner')\n",
    "\n",
    "internet_test12_math = pd.merge(internet, test12_math, \n",
    "                               left_on = 'Year', right_on = 'year', \n",
    "                               how = 'inner')"
   ]
  },
  {
   "cell_type": "markdown",
   "id": "2107488e",
   "metadata": {},
   "source": [
    "#### finding correlation coefficients"
   ]
  },
  {
   "cell_type": "code",
   "execution_count": null,
   "id": "4e2976e2",
   "metadata": {
    "scrolled": true
   },
   "outputs": [],
   "source": [
    "internet_test4_read.corr()\n",
    "#0.811"
   ]
  },
  {
   "cell_type": "code",
   "execution_count": null,
   "id": "c782b37f",
   "metadata": {},
   "outputs": [],
   "source": [
    "internet_test4_math.corr()\n",
    "#0.654"
   ]
  },
  {
   "cell_type": "code",
   "execution_count": null,
   "id": "77a273ac",
   "metadata": {
    "scrolled": true
   },
   "outputs": [],
   "source": [
    "internet_test8_read.corr()\n",
    "#0.791"
   ]
  },
  {
   "cell_type": "code",
   "execution_count": null,
   "id": "686d9efa",
   "metadata": {},
   "outputs": [],
   "source": [
    "internet_test8_math.corr()\n",
    "#0.842"
   ]
  },
  {
   "cell_type": "code",
   "execution_count": null,
   "id": "27ab7bd9",
   "metadata": {},
   "outputs": [],
   "source": [
    "internet_test12_read.corr()\n",
    "#-0.655"
   ]
  },
  {
   "cell_type": "code",
   "execution_count": null,
   "id": "381c6953",
   "metadata": {},
   "outputs": [],
   "source": [
    "internet_test12_math.corr()\n",
    "#-0.601"
   ]
  },
  {
   "cell_type": "code",
   "execution_count": null,
   "id": "f24d4717",
   "metadata": {},
   "outputs": [],
   "source": []
  }
 ],
 "metadata": {
  "kernelspec": {
   "display_name": "Python 3 (ipykernel)",
   "language": "python",
   "name": "python3"
  },
  "language_info": {
   "codemirror_mode": {
    "name": "ipython",
    "version": 3
   },
   "file_extension": ".py",
   "mimetype": "text/x-python",
   "name": "python",
   "nbconvert_exporter": "python",
   "pygments_lexer": "ipython3",
   "version": "3.9.13"
  }
 },
 "nbformat": 4,
 "nbformat_minor": 5
}
