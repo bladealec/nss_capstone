{
 "cells": [
  {
   "cell_type": "markdown",
   "id": "7e090747",
   "metadata": {},
   "source": [
    "## Finding Correlation Coefficient between Global child internet access and Student Weight Problems"
   ]
  },
  {
   "cell_type": "code",
   "execution_count": null,
   "id": "c1aff761",
   "metadata": {},
   "outputs": [],
   "source": [
    "import pandas as pd"
   ]
  },
  {
   "cell_type": "code",
   "execution_count": null,
   "id": "90678d97",
   "metadata": {},
   "outputs": [],
   "source": [
    "weight = pd.read_csv(r'C:\\Users\\alecb\\Documents\\NSS\\Python\\projects\\alec_capstone\\cleaned_data\\globe_internet_obesity_v2.csv')"
   ]
  },
  {
   "cell_type": "code",
   "execution_count": null,
   "id": "08a06c15",
   "metadata": {},
   "outputs": [],
   "source": [
    "weight.head()"
   ]
  },
  {
   "cell_type": "code",
   "execution_count": null,
   "id": "fec2c77d",
   "metadata": {},
   "outputs": [],
   "source": [
    "weight = weight.drop(columns = ['Unnamed: 0'])"
   ]
  },
  {
   "cell_type": "markdown",
   "id": "931c1080",
   "metadata": {},
   "source": [
    "#### creating age groups to filter by later"
   ]
  },
  {
   "cell_type": "code",
   "execution_count": null,
   "id": "726d7006",
   "metadata": {},
   "outputs": [],
   "source": [
    "for index, row in weight.iterrows():\n",
    "    \n",
    "    if ((row['Age group'] == 8) | (row['Age group'] == 9) | (row['Age group'] == 10)):\n",
    "        weight.loc[index, 'Age group'] = '8 - 10'\n",
    "        \n",
    "    elif ((row['Age group'] == 12) | (row['Age group'] == 13) | (row['Age group'] == 14)):\n",
    "        weight.loc[index, 'Age group'] = '12 - 14'\n",
    "        \n",
    "    elif ((row['Age group'] == 16) | (row['Age group'] == 17) | (row['Age group'] == 18)):\n",
    "        weight.loc[index, 'Age group'] = '16 - 18'"
   ]
  },
  {
   "cell_type": "code",
   "execution_count": null,
   "id": "0c3f5c94",
   "metadata": {
    "scrolled": true
   },
   "outputs": [],
   "source": [
    "weight"
   ]
  },
  {
   "cell_type": "markdown",
   "id": "eb09356c",
   "metadata": {},
   "source": [
    "### global correlation starting in 1989"
   ]
  },
  {
   "cell_type": "code",
   "execution_count": null,
   "id": "aa82b36d",
   "metadata": {},
   "outputs": [],
   "source": [
    "weight[(weight['Year'] > 1988) & ((weight['Age group'] == '8 - 10') |\n",
    "       (weight['Age group'] == '12 - 14') | (weight['Age group'] == '16 - 18'))].corr()\n",
    "#obese: 0.428, overweight: 0.436"
   ]
  },
  {
   "cell_type": "code",
   "execution_count": null,
   "id": "471d03c2",
   "metadata": {},
   "outputs": [],
   "source": [
    "#4th graders\n",
    "weight[(weight['Year'] > 1988) & (weight['Age group'] == '8 - 10')].corr()\n",
    "#obese: 0.479, overweight: 0.468"
   ]
  },
  {
   "cell_type": "code",
   "execution_count": null,
   "id": "4a73c62e",
   "metadata": {},
   "outputs": [],
   "source": [
    "#8th graders\n",
    "weight[(weight['Year'] > 1988) & (weight['Age group'] == '12 - 14')].corr()\n",
    "#obese: 0.449, overweight: 0.451"
   ]
  },
  {
   "cell_type": "code",
   "execution_count": null,
   "id": "82092303",
   "metadata": {},
   "outputs": [],
   "source": [
    "#12th graders\n",
    "weight[(weight['Year'] > 1988) & (weight['Age group'] == '16 - 18')].corr()\n",
    "#obese: 0.420, overweight: 0.425"
   ]
  },
  {
   "cell_type": "markdown",
   "id": "65ef6d1a",
   "metadata": {},
   "source": [
    "### USA correlation starting in 1989"
   ]
  },
  {
   "cell_type": "code",
   "execution_count": null,
   "id": "4f7aa3b3",
   "metadata": {},
   "outputs": [],
   "source": [
    "weight[(weight['Year'] > 1988) & (weight['Country'] == 'United States of America') &\n",
    "       ((weight['Age group'] == '8 - 10') | (weight['Age group'] == '12 - 14') | (weight['Age group'] == '16 - 18'))].corr()\n",
    "#obese:0.720, overweight:0.683"
   ]
  },
  {
   "cell_type": "code",
   "execution_count": null,
   "id": "adde8797",
   "metadata": {},
   "outputs": [],
   "source": [
    "#4th graders\n",
    "weight[(weight['Year'] > 1988) & (weight['Country'] == 'United States of America') &\n",
    "       (weight['Age group'] == '8 - 10')].corr()\n",
    "#obese:0.849, overweight:0.875"
   ]
  },
  {
   "cell_type": "code",
   "execution_count": null,
   "id": "e4244915",
   "metadata": {},
   "outputs": [],
   "source": [
    "#8th graders\n",
    "weight[(weight['Year'] > 1988) & (weight['Country'] == 'United States of America') &\n",
    "       (weight['Age group'] == '12 - 14')].corr()\n",
    "#obese:0.814, overweight:0.825"
   ]
  },
  {
   "cell_type": "code",
   "execution_count": null,
   "id": "c0193697",
   "metadata": {},
   "outputs": [],
   "source": [
    "#12th graders\n",
    "weight[(weight['Year'] > 1988) & (weight['Country'] == 'United States of America') &\n",
    "       (weight['Age group'] == '16 - 18')].corr()\n",
    "#obese:0.929, overweight:0.939"
   ]
  },
  {
   "cell_type": "code",
   "execution_count": null,
   "id": "46d60522",
   "metadata": {},
   "outputs": [],
   "source": []
  }
 ],
 "metadata": {
  "kernelspec": {
   "display_name": "Python 3 (ipykernel)",
   "language": "python",
   "name": "python3"
  },
  "language_info": {
   "codemirror_mode": {
    "name": "ipython",
    "version": 3
   },
   "file_extension": ".py",
   "mimetype": "text/x-python",
   "name": "python",
   "nbconvert_exporter": "python",
   "pygments_lexer": "ipython3",
   "version": "3.9.13"
  }
 },
 "nbformat": 4,
 "nbformat_minor": 5
}
