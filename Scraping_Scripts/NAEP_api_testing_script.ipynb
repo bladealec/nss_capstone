{
 "cells": [
  {
   "cell_type": "markdown",
   "id": "c75786c6",
   "metadata": {},
   "source": [
    "# This notebook is using the Nation's Report Card (NAEP) API to pull in information about adolescent academic success from the years 2001 to 2014. (grades 4, 8, 12)"
   ]
  },
  {
   "cell_type": "code",
   "execution_count": 3,
   "id": "62cad0d3",
   "metadata": {},
   "outputs": [],
   "source": [
    "import requests\n",
    "import pandas as pd"
   ]
  },
  {
   "cell_type": "markdown",
   "id": "4175ef2e",
   "metadata": {},
   "source": [
    "#### Getting familiar with the API"
   ]
  },
  {
   "cell_type": "code",
   "execution_count": 29,
   "id": "ff1763dc",
   "metadata": {},
   "outputs": [],
   "source": [
    "endpoint = 'https://www.nationsreportcard.gov/DataService/GetAdhocData.aspx?type=data&variable=TOTAL&subject=writing&grade=8&subscale=WRIRP&jurisdiction=NP&stattype=MN:MN&Year=2011'\n",
    "\n",
    "response = requests.get(endpoint)"
   ]
  },
  {
   "cell_type": "code",
   "execution_count": 30,
   "id": "a0af1d1a",
   "metadata": {
    "collapsed": true
   },
   "outputs": [
    {
     "data": {
      "text/plain": [
       "<Response [200]>"
      ]
     },
     "execution_count": 30,
     "metadata": {},
     "output_type": "execute_result"
    }
   ],
   "source": [
    "response"
   ]
  },
  {
   "cell_type": "code",
   "execution_count": 31,
   "id": "3f6c6d76",
   "metadata": {
    "collapsed": true
   },
   "outputs": [
    {
     "data": {
      "text/plain": [
       "'{\"status\":200,\"result\": [{\"year\":2011,\"sample\":\"R3\",\"yearSampleLabel\":\"2011\",\"Cohort\":2,\"CohortLabel\":\"Grade 8\",\"stattype\":\"MN:MN\",\"subject\":\"WRI\",\"grade\":8,\"scale\":\"WRIRP\",\"jurisdiction\":\"NP\",\"variable\":\"TOTAL\",\"variableLabel\":\"All students\",\"varValue\":\"1\",\"varValueLabel\":\"All students\",\"value\":148.705469015333,\"isStatDisplayable\":1,\"errorFlag\":0}]}'"
      ]
     },
     "execution_count": 31,
     "metadata": {},
     "output_type": "execute_result"
    }
   ],
   "source": [
    "response.text"
   ]
  },
  {
   "cell_type": "code",
   "execution_count": 32,
   "id": "f70c8b8f",
   "metadata": {
    "collapsed": true
   },
   "outputs": [
    {
     "data": {
      "text/plain": [
       "{'status': 200,\n",
       " 'result': [{'year': 2011,\n",
       "   'sample': 'R3',\n",
       "   'yearSampleLabel': '2011',\n",
       "   'Cohort': 2,\n",
       "   'CohortLabel': 'Grade 8',\n",
       "   'stattype': 'MN:MN',\n",
       "   'subject': 'WRI',\n",
       "   'grade': 8,\n",
       "   'scale': 'WRIRP',\n",
       "   'jurisdiction': 'NP',\n",
       "   'variable': 'TOTAL',\n",
       "   'variableLabel': 'All students',\n",
       "   'varValue': '1',\n",
       "   'varValueLabel': 'All students',\n",
       "   'value': 148.705469015333,\n",
       "   'isStatDisplayable': 1,\n",
       "   'errorFlag': 0}]}"
      ]
     },
     "execution_count": 32,
     "metadata": {},
     "output_type": "execute_result"
    }
   ],
   "source": [
    "res = response.json()\n",
    "res"
   ]
  },
  {
   "cell_type": "code",
   "execution_count": 262,
   "id": "6e38d9dd",
   "metadata": {},
   "outputs": [],
   "source": [
    "endpoint2 = 'https://www.nationsreportcard.gov/DataService/GetAdhocData.aspx?'"
   ]
  },
  {
   "cell_type": "code",
   "execution_count": 293,
   "id": "ac77ad75",
   "metadata": {},
   "outputs": [],
   "source": [
    "params = {\n",
    "    'type': 'data',\n",
    "    'variable': 'TOTAL', \n",
    "    'subject': 'history',\n",
    "    'grade': 12,\n",
    "    'subscale': 'HRPCM',\n",
    "    'jurisdiction': 'NP',\n",
    "    'stattype': 'MN:MN',\n",
    "    'year': 2006\n",
    "}"
   ]
  },
  {
   "cell_type": "code",
   "execution_count": 294,
   "id": "e200ef57",
   "metadata": {},
   "outputs": [],
   "source": [
    "response2 = requests.get(endpoint2, params = params)"
   ]
  },
  {
   "cell_type": "code",
   "execution_count": 295,
   "id": "6d99f36f",
   "metadata": {
    "collapsed": true
   },
   "outputs": [
    {
     "data": {
      "text/plain": [
       "'{\"status\":200,\"result\": [{\"year\":2006,\"sample\":\"R3\",\"yearSampleLabel\":\"2006\",\"Cohort\":2,\"CohortLabel\":\"Grade 8\",\"stattype\":\"MN:MN\",\"subject\":\"HIS\",\"grade\":8,\"scale\":\"HRPCM\",\"jurisdiction\":\"NP\",\"variable\":\"TOTAL\",\"variableLabel\":\"All students\",\"varValue\":\"1\",\"varValueLabel\":\"All students\",\"value\":261.491530680691,\"isStatDisplayable\":1,\"errorFlag\":0}]}'"
      ]
     },
     "execution_count": 295,
     "metadata": {},
     "output_type": "execute_result"
    }
   ],
   "source": [
    "response2.text"
   ]
  },
  {
   "cell_type": "code",
   "execution_count": 296,
   "id": "d71e3c52",
   "metadata": {
    "collapsed": true
   },
   "outputs": [
    {
     "data": {
      "text/plain": [
       "{'status': 200,\n",
       " 'result': [{'year': 2006,\n",
       "   'sample': 'R3',\n",
       "   'yearSampleLabel': '2006',\n",
       "   'Cohort': 2,\n",
       "   'CohortLabel': 'Grade 8',\n",
       "   'stattype': 'MN:MN',\n",
       "   'subject': 'HIS',\n",
       "   'grade': 8,\n",
       "   'scale': 'HRPCM',\n",
       "   'jurisdiction': 'NP',\n",
       "   'variable': 'TOTAL',\n",
       "   'variableLabel': 'All students',\n",
       "   'varValue': '1',\n",
       "   'varValueLabel': 'All students',\n",
       "   'value': 261.491530680691,\n",
       "   'isStatDisplayable': 1,\n",
       "   'errorFlag': 0}]}"
      ]
     },
     "execution_count": 296,
     "metadata": {},
     "output_type": "execute_result"
    }
   ],
   "source": [
    "res = response2.json()\n",
    "res"
   ]
  },
  {
   "cell_type": "code",
   "execution_count": 108,
   "id": "3ad89b04",
   "metadata": {},
   "outputs": [
    {
     "data": {
      "text/plain": [
       "148.705469015333"
      ]
     },
     "execution_count": 108,
     "metadata": {},
     "output_type": "execute_result"
    }
   ],
   "source": [
    "res['result'][0]['value']"
   ]
  }
 ],
 "metadata": {
  "kernelspec": {
   "display_name": "Python 3 (ipykernel)",
   "language": "python",
   "name": "python3"
  },
  "language_info": {
   "codemirror_mode": {
    "name": "ipython",
    "version": 3
   },
   "file_extension": ".py",
   "mimetype": "text/x-python",
   "name": "python",
   "nbconvert_exporter": "python",
   "pygments_lexer": "ipython3",
   "version": "3.9.13"
  }
 },
 "nbformat": 4,
 "nbformat_minor": 5
}
